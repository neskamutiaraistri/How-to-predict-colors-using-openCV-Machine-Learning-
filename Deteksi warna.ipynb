{
 "cells": [
  {
   "cell_type": "code",
   "execution_count": 9,
   "id": "6d78a1f7",
   "metadata": {},
   "outputs": [
    {
     "name": "stdout",
     "output_type": "stream",
     "text": [
      "     B   G    R Target\n",
      "0   70  44  211  Merah\n",
      "1   72  46  210  Merah\n",
      "2   74  49  210  Merah\n",
      "3   73  49  207  Merah\n",
      "4   70  45  206  Merah\n",
      "..  ..  ..  ...    ...\n",
      "70  63  37  195  Hijau\n",
      "71  57  34  192  Hijau\n",
      "72  53  33  189  Hijau\n",
      "73  52  35  190  Hijau\n",
      "74  55  38  193  Hijau\n",
      "\n",
      "[75 rows x 4 columns]\n"
     ]
    },
    {
     "ename": "TypeError",
     "evalue": "'NoneType' object is not subscriptable",
     "output_type": "error",
     "traceback": [
      "\u001b[1;31m---------------------------------------------------------------------------\u001b[0m",
      "\u001b[1;31mTypeError\u001b[0m                                 Traceback (most recent call last)",
      "Input \u001b[1;32mIn [9]\u001b[0m, in \u001b[0;36m<cell line: 30>\u001b[1;34m()\u001b[0m\n\u001b[0;32m     32\u001b[0m \u001b[38;5;28;01mfor\u001b[39;00m x \u001b[38;5;129;01min\u001b[39;00m \u001b[38;5;28mrange\u001b[39m (\u001b[38;5;241m330\u001b[39m,\u001b[38;5;241m340\u001b[39m,\u001b[38;5;241m1\u001b[39m):\n\u001b[0;32m     33\u001b[0m     \u001b[38;5;28;01mfor\u001b[39;00m y \u001b[38;5;129;01min\u001b[39;00m \u001b[38;5;28mrange\u001b[39m (\u001b[38;5;241m220\u001b[39m,\u001b[38;5;241m260\u001b[39m,\u001b[38;5;241m1\u001b[39m):\n\u001b[1;32m---> 34\u001b[0m         color \u001b[38;5;241m=\u001b[39m \u001b[43mimg\u001b[49m\u001b[43m \u001b[49m\u001b[43m[\u001b[49m\u001b[43my\u001b[49m\u001b[43m,\u001b[49m\u001b[43mx\u001b[49m\u001b[43m]\u001b[49m\n\u001b[0;32m     35\u001b[0m         colorB \u001b[38;5;241m=\u001b[39m img [y,x,\u001b[38;5;241m0\u001b[39m]\n\u001b[0;32m     36\u001b[0m         colorG \u001b[38;5;241m=\u001b[39m img [y,x,\u001b[38;5;241m1\u001b[39m]\n",
      "\u001b[1;31mTypeError\u001b[0m: 'NoneType' object is not subscriptable"
     ]
    }
   ],
   "source": [
    "import cv2\n",
    "import numpy as np\n",
    "import csv\n",
    "import time\n",
    "\n",
    "from sklearn import svm\n",
    "import pandas as pd\n",
    "\n",
    "cap = cv2.VideoCapture(1)\n",
    "img = cap.set(cv2.CAP_PROP_FRAME_WIDTH,480)\n",
    "img = cap.set(cv2.CAP_PROP_FRAME_HEIGHT,480)\n",
    "\n",
    "#Database: Gerbang Logika AND\n",
    "#Membaca data dari file\n",
    "FileDB = 'warna.txt'\n",
    "Database = pd.read_csv(FileDB, sep=\",\",header=0)\n",
    "print(Database)\n",
    "\n",
    "#x = Data, y = Target\n",
    "x = Database[[u'B',u'G',u'R']]\n",
    "y = Database.Target\n",
    "\n",
    "clf = svm.SVC()\n",
    "clf.fit(x,y)\n",
    "\n",
    "fpsLimit = 1\n",
    "startTime = time.time()\n",
    "\n",
    "while True:\n",
    "    ret,img = cap.read()\n",
    "    img = cv2.flip(img,1)\n",
    "    for x in range (330,340,1):\n",
    "        for y in range (220,260,1):\n",
    "            color = img [y,x]\n",
    "            colorB = img [y,x,0]\n",
    "            colorG = img [y,x,1]\n",
    "            colorR = img [y,x,2]\n",
    "\n",
    "    print(' B G R = ', color)\n",
    "    cv2.imshow(\"Color Tracking\", img)\n",
    "\n",
    "    if clf.predict([color]) == 'hijau':\n",
    "        print (\"Hijau\")\n",
    "\n",
    "    elif clf.predict([color]) == 'kuning':\n",
    "        print (\"Kuning\")\n",
    "\n",
    "    elif clf.predict([color]) == 'merah':\n",
    "        print (\"Merah\")\n",
    "\n",
    "    k = cv2.waitKey(30) & 0xff\n",
    "    if k == 27:\n",
    "        break\n",
    "\n",
    "cap.release()\n",
    "cv2.destoryAllWindows()"
   ]
  }
 ],
 "metadata": {
  "kernelspec": {
   "display_name": "Python 3 (ipykernel)",
   "language": "python",
   "name": "python3"
  },
  "language_info": {
   "codemirror_mode": {
    "name": "ipython",
    "version": 3
   },
   "file_extension": ".py",
   "mimetype": "text/x-python",
   "name": "python",
   "nbconvert_exporter": "python",
   "pygments_lexer": "ipython3",
   "version": "3.9.12"
  }
 },
 "nbformat": 4,
 "nbformat_minor": 5
}
