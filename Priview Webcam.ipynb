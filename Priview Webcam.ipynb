{
 "cells": [
  {
   "cell_type": "code",
   "execution_count": null,
   "id": "e54d0a3c",
   "metadata": {},
   "outputs": [],
   "source": [
    "import cv2\n",
    "import numpy as np\n",
    "cap = cv2.VideoCapture (0)\n",
    "while True:\n",
    "        ret, frame = cap.read()\n",
    "        frame = cv2.flip (frame, 1)\n",
    "        cv2.imshow (\"camera\", frame)\n",
    "        key = cv2.waitKey (0)\n",
    "        if key == 27:\n",
    "                break\n",
    "cap. realease ()\n",
    "cv2.destroyAllWindows ()"
   ]
  }
 ],
 "metadata": {
  "kernelspec": {
   "display_name": "Python 3 (ipykernel)",
   "language": "python",
   "name": "python3"
  },
  "language_info": {
   "codemirror_mode": {
    "name": "ipython",
    "version": 3
   },
   "file_extension": ".py",
   "mimetype": "text/x-python",
   "name": "python",
   "nbconvert_exporter": "python",
   "pygments_lexer": "ipython3",
   "version": "3.9.12"
  }
 },
 "nbformat": 4,
 "nbformat_minor": 5
}
