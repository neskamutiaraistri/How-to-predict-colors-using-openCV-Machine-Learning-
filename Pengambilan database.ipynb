{
 "cells": [
  {
   "cell_type": "code",
   "execution_count": null,
   "id": "af1e2915",
   "metadata": {},
   "outputs": [],
   "source": [
    "import cv2\n",
    "import numpy as np\n",
    "import csv\n",
    "import time\n",
    "\n",
    "cap = cv2.VideoCapture(0)\n",
    "\n",
    "while True:\n",
    "    ret, img = cap.read()\n",
    "    for x in range (330,340,1):\n",
    "        for y in range(220,260,1):\n",
    "            color = img[x,y]\n",
    "            colorB = img[x,y,0]\n",
    "            colorG = img[x,y,1]\n",
    "            colorR = img[x,y,2]\n",
    "        print('B G R = ',color)\n",
    "        cv2.imshow('Pengambilan Database', img)\n",
    "\n",
    "        k = cv2.waitKey(30) & 0xff\n",
    "        if k == 27:\n",
    "            break\n",
    "\n",
    "cap.release()\n",
    "cv2.destoryAllWindows()\n"
   ]
  }
 ],
 "metadata": {
  "kernelspec": {
   "display_name": "Python 3 (ipykernel)",
   "language": "python",
   "name": "python3"
  }
 },
 "nbformat": 4,
 "nbformat_minor": 5
}
